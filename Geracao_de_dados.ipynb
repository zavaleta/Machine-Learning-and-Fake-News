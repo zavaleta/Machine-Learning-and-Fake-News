{
 "cells": [
  {
   "cell_type": "markdown",
   "id": "sufficient-active",
   "metadata": {},
   "source": [
    "---\n",
    "# Geração de Dados"
   ]
  },
  {
   "cell_type": "markdown",
   "id": "sonic-stuart",
   "metadata": {},
   "source": [
    "---\n",
    "[DOI Zenodo]()"
   ]
  },
  {
   "cell_type": "markdown",
   "id": "likely-cooperation",
   "metadata": {},
   "source": [
    "# Métodos"
   ]
  },
  {
   "cell_type": "code",
   "execution_count": null,
   "id": "political-narrow",
   "metadata": {},
   "outputs": [],
   "source": [
    "## 1. WebScrapping"
   ]
  },
  {
   "cell_type": "code",
   "execution_count": null,
   "id": "integral-italy",
   "metadata": {},
   "outputs": [],
   "source": []
  },
  {
   "cell_type": "code",
   "execution_count": null,
   "id": "according-vermont",
   "metadata": {},
   "outputs": [],
   "source": [
    "## 2. WebCrawler"
   ]
  },
  {
   "cell_type": "code",
   "execution_count": null,
   "id": "together-selling",
   "metadata": {},
   "outputs": [],
   "source": []
  },
  {
   "cell_type": "code",
   "execution_count": null,
   "id": "radio-travel",
   "metadata": {},
   "outputs": [],
   "source": [
    "## 3. "
   ]
  },
  {
   "cell_type": "code",
   "execution_count": null,
   "id": "hispanic-finland",
   "metadata": {},
   "outputs": [],
   "source": []
  },
  {
   "cell_type": "code",
   "execution_count": null,
   "id": "incorrect-medium",
   "metadata": {},
   "outputs": [],
   "source": []
  },
  {
   "cell_type": "code",
   "execution_count": null,
   "id": "prescribed-revision",
   "metadata": {},
   "outputs": [],
   "source": []
  },
  {
   "cell_type": "markdown",
   "id": "cathedral-sleeping",
   "metadata": {},
   "source": [
    "---\n",
    "#### <center>Plano de Gestão de dados,  Copyright &copy;  Jorge Zavaleta, 2021</center>"
   ]
  }
 ],
 "metadata": {
  "kernelspec": {
   "display_name": "Python 3",
   "language": "python",
   "name": "python3"
  },
  "language_info": {
   "codemirror_mode": {
    "name": "ipython",
    "version": 3
   },
   "file_extension": ".py",
   "mimetype": "text/x-python",
   "name": "python",
   "nbconvert_exporter": "python",
   "pygments_lexer": "ipython3",
   "version": "3.8.8"
  }
 },
 "nbformat": 4,
 "nbformat_minor": 5
}
