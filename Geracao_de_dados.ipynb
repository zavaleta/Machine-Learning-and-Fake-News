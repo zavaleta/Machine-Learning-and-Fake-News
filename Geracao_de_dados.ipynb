{
 "cells": [
  {
   "cell_type": "markdown",
   "id": "official-operation",
   "metadata": {},
   "source": [
    "---\n",
    "# Geração de Dados"
   ]
  },
  {
   "cell_type": "markdown",
   "id": "superior-brush",
   "metadata": {},
   "source": [
    "---\n",
    "[DOI Zenodo]()"
   ]
  },
  {
   "cell_type": "markdown",
   "id": "colored-argument",
   "metadata": {},
   "source": [
    "# Métodos"
   ]
  },
  {
   "cell_type": "markdown",
   "id": "married-feelings",
   "metadata": {},
   "source": [
    "## 1. WebScrapping"
   ]
  },
  {
   "cell_type": "code",
   "execution_count": null,
   "id": "acquired-offense",
   "metadata": {},
   "outputs": [],
   "source": []
  },
  {
   "cell_type": "markdown",
   "id": "threaded-prairie",
   "metadata": {},
   "source": [
    "## 2. WebCrawler"
   ]
  },
  {
   "cell_type": "code",
   "execution_count": null,
   "id": "substantial-norwegian",
   "metadata": {},
   "outputs": [],
   "source": []
  },
  {
   "cell_type": "markdown",
   "id": "handled-platinum",
   "metadata": {},
   "source": [
    "## 3. Selenium"
   ]
  },
  {
   "cell_type": "code",
   "execution_count": null,
   "id": "played-kuwait",
   "metadata": {},
   "outputs": [],
   "source": []
  },
  {
   "cell_type": "code",
   "execution_count": null,
   "id": "seasonal-following",
   "metadata": {},
   "outputs": [],
   "source": []
  },
  {
   "cell_type": "code",
   "execution_count": null,
   "id": "limiting-backup",
   "metadata": {},
   "outputs": [],
   "source": []
  },
  {
   "cell_type": "markdown",
   "id": "signal-monaco",
   "metadata": {},
   "source": [
    "---\n",
    "#### <center>Plano de Gestão de dados,  Copyright &copy;  Jorge Zavaleta, 2021</center>"
   ]
  }
 ],
 "metadata": {
  "kernelspec": {
   "display_name": "Python 3",
   "language": "python",
   "name": "python3"
  },
  "language_info": {
   "codemirror_mode": {
    "name": "ipython",
    "version": 3
   },
   "file_extension": ".py",
   "mimetype": "text/x-python",
   "name": "python",
   "nbconvert_exporter": "python",
   "pygments_lexer": "ipython3",
   "version": "3.8.8"
  }
 },
 "nbformat": 4,
 "nbformat_minor": 5
}
