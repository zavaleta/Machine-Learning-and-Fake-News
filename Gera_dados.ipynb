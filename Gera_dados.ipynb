{
 "cells": [
  {
   "cell_type": "markdown",
   "id": "speaking-communication",
   "metadata": {},
   "source": [
    "[![Binder](https://mybinder.org/badge_logo.svg)](https://mybinder.org/v2/gh/zavaleta/Machine-Learning-and-Fake-News/main)"
   ]
  },
  {
   "cell_type": "markdown",
   "id": "opponent-boston",
   "metadata": {},
   "source": [
    "---\n",
    "# Projeto de Pesquisa - Geração de Dados"
   ]
  },
  {
   "cell_type": "markdown",
   "id": "painted-delaware",
   "metadata": {},
   "source": [
    "---\n",
    "[![DOI](https://zenodo.org/badge/DOI/10.5281/zenodo.4663365.svg)](https://doi.org/10.5281/zenodo.4663365)"
   ]
  },
  {
   "cell_type": "markdown",
   "id": "bored-heart",
   "metadata": {},
   "source": [
    "---\n",
    "# 1. Métodos"
   ]
  },
  {
   "cell_type": "markdown",
   "id": "medical-conclusion",
   "metadata": {},
   "source": [
    "> Verificar se existe dados restringidos ou sensíveis\n",
    "> - ```usar: robots.txt```"
   ]
  },
  {
   "cell_type": "markdown",
   "id": "7cb29252",
   "metadata": {},
   "source": [
    "> ## Importar bibliotercas necessárias \n"
   ]
  },
  {
   "cell_type": "code",
   "execution_count": 1,
   "id": "b6f759d3",
   "metadata": {},
   "outputs": [],
   "source": [
    "# importar bibliotecas\n",
    "import requests                           #\n",
    "from bs4 import BeautifulSoup             #\n",
    "from datetime import datetime, date       #\n",
    "import pandas as pd                       # usar series e dataframes\n",
    "import re                                 #"
   ]
  },
  {
   "cell_type": "markdown",
   "id": "current-header",
   "metadata": {},
   "source": [
    "## 1.1 WebScrapping"
   ]
  },
  {
   "cell_type": "code",
   "execution_count": 2,
   "id": "conscious-algebra",
   "metadata": {},
   "outputs": [
    {
     "name": "stdout",
     "output_type": "stream",
     "text": [
      "Método Webscrapping\n"
     ]
    }
   ],
   "source": [
    "# metodos webscrapping\n",
    "print('Método Webscrapping')"
   ]
  },
  {
   "cell_type": "markdown",
   "id": "included-scheduling",
   "metadata": {},
   "source": [
    "## 1.2 WebCrawler"
   ]
  },
  {
   "cell_type": "code",
   "execution_count": 3,
   "id": "auburn-lindsay",
   "metadata": {},
   "outputs": [
    {
     "name": "stdout",
     "output_type": "stream",
     "text": [
      "Método WebCrawler\n"
     ]
    }
   ],
   "source": [
    "# metodos webscrapping\n",
    "print('Método WebCrawler')"
   ]
  },
  {
   "cell_type": "markdown",
   "id": "affecting-potential",
   "metadata": {},
   "source": [
    "## 1.3 Selenium"
   ]
  },
  {
   "cell_type": "code",
   "execution_count": 4,
   "id": "beginning-notion",
   "metadata": {},
   "outputs": [
    {
     "name": "stdout",
     "output_type": "stream",
     "text": [
      "Método Selenium\n"
     ]
    }
   ],
   "source": [
    "# metodos webscrapping\n",
    "print('Método Selenium')"
   ]
  },
  {
   "cell_type": "markdown",
   "id": "303c8245",
   "metadata": {},
   "source": [
    "# 2. Automatização da Geração de Dados"
   ]
  },
  {
   "cell_type": "code",
   "execution_count": 5,
   "id": "fifth-things",
   "metadata": {},
   "outputs": [
    {
     "name": "stdout",
     "output_type": "stream",
     "text": [
      "Automatização da geração de dados\n"
     ]
    }
   ],
   "source": [
    "# automatizacao\n",
    "print('Automatização da geração de dados')"
   ]
  },
  {
   "cell_type": "markdown",
   "id": "c8c38f46",
   "metadata": {},
   "source": [
    "# 3. Analise e limpeza de dados"
   ]
  },
  {
   "cell_type": "code",
   "execution_count": 10,
   "id": "fe4b5b72",
   "metadata": {},
   "outputs": [
    {
     "data": {
      "text/html": [
       "<div>\n",
       "<style scoped>\n",
       "    .dataframe tbody tr th:only-of-type {\n",
       "        vertical-align: middle;\n",
       "    }\n",
       "\n",
       "    .dataframe tbody tr th {\n",
       "        vertical-align: top;\n",
       "    }\n",
       "\n",
       "    .dataframe thead th {\n",
       "        text-align: right;\n",
       "    }\n",
       "</style>\n",
       "<table border=\"1\" class=\"dataframe\">\n",
       "  <thead>\n",
       "    <tr style=\"text-align: right;\">\n",
       "      <th></th>\n",
       "      <th>Unnamed: 0</th>\n",
       "      <th>fonte</th>\n",
       "      <th>author</th>\n",
       "      <th>title</th>\n",
       "      <th>intencionalidade</th>\n",
       "      <th>data</th>\n",
       "      <th>fato</th>\n",
       "      <th>conteudo</th>\n",
       "      <th>autenticidade</th>\n",
       "      <th>tipo</th>\n",
       "      <th>categoria</th>\n",
       "      <th>link</th>\n",
       "      <th>image</th>\n",
       "    </tr>\n",
       "  </thead>\n",
       "  <tbody>\n",
       "    <tr>\n",
       "      <th>0</th>\n",
       "      <td>0</td>\n",
       "      <td>G1</td>\n",
       "      <td>-</td>\n",
       "      <td>Fato ou Fake lança bot exclusivo para checar c...</td>\n",
       "      <td>xv</td>\n",
       "      <td>2000-01-01 00:00:00</td>\n",
       "      <td>False</td>\n",
       "      <td>É possível por meio do número no WhatsApp faze...</td>\n",
       "      <td>False</td>\n",
       "      <td>noticia</td>\n",
       "      <td>boato</td>\n",
       "      <td>https://g1.globo.com/fato-ou-fake/noticia/2020...</td>\n",
       "      <td>-</td>\n",
       "    </tr>\n",
       "    <tr>\n",
       "      <th>1</th>\n",
       "      <td>1</td>\n",
       "      <td>G1</td>\n",
       "      <td>-</td>\n",
       "      <td>O que é #FATO ou #FAKE sobre o coronavírus</td>\n",
       "      <td>xv</td>\n",
       "      <td>00</td>\n",
       "      <td>False</td>\n",
       "      <td>Vídeos, áudios e posts têm viralizado nas rede...</td>\n",
       "      <td>False</td>\n",
       "      <td>[]</td>\n",
       "      <td>boato</td>\n",
       "      <td>https://g1.globo.com/fato-ou-fake/coronavirus/</td>\n",
       "      <td>https://s2.glbimg.com/vUTxF9w-hBRXE_So7-tFd8nl...</td>\n",
       "    </tr>\n",
       "    <tr>\n",
       "      <th>2</th>\n",
       "      <td>2</td>\n",
       "      <td>G1</td>\n",
       "      <td>-</td>\n",
       "      <td>É #FAKE vídeo em que mulher diz que mais de 50...</td>\n",
       "      <td>xv</td>\n",
       "      <td>2000-01-01 00:00:00</td>\n",
       "      <td>False</td>\n",
       "      <td>Números citados em português são referentes a ...</td>\n",
       "      <td>False</td>\n",
       "      <td>noticia</td>\n",
       "      <td>boato</td>\n",
       "      <td>https://g1.globo.com/fato-ou-fake/coronavirus/...</td>\n",
       "      <td>https://s2.glbimg.com/DThH2hqRg3DlLe_9Q7WYpi-n...</td>\n",
       "    </tr>\n",
       "    <tr>\n",
       "      <th>3</th>\n",
       "      <td>3</td>\n",
       "      <td>G1</td>\n",
       "      <td>-</td>\n",
       "      <td>É #FAKE que imagens provem que Hospital Moinho...</td>\n",
       "      <td>xv</td>\n",
       "      <td>00</td>\n",
       "      <td>False</td>\n",
       "      <td>Hospital diz que 'o vídeo gravado nas dependên...</td>\n",
       "      <td>False</td>\n",
       "      <td>video</td>\n",
       "      <td>boato</td>\n",
       "      <td>https://g1.globo.com/fato-ou-fake/video/e-fake...</td>\n",
       "      <td>https://s2.glbimg.com/9N-SqOkQrRNvOVtr6hs-31R1...</td>\n",
       "    </tr>\n",
       "    <tr>\n",
       "      <th>4</th>\n",
       "      <td>4</td>\n",
       "      <td>G1</td>\n",
       "      <td>-</td>\n",
       "      <td>É #FAKE que imagens provem que Hospital Moinho...</td>\n",
       "      <td>xv</td>\n",
       "      <td>2000-01-01 00:00:00</td>\n",
       "      <td>False</td>\n",
       "      <td>Hospital diz que 'o vídeo gravado nas dependên...</td>\n",
       "      <td>False</td>\n",
       "      <td>noticia</td>\n",
       "      <td>boato</td>\n",
       "      <td>https://g1.globo.com/fato-ou-fake/coronavirus/...</td>\n",
       "      <td>https://s2.glbimg.com/9N-SqOkQrRNvOVtr6hs-31R1...</td>\n",
       "    </tr>\n",
       "  </tbody>\n",
       "</table>\n",
       "</div>"
      ],
      "text/plain": [
       "   Unnamed: 0 fonte author                                              title  \\\n",
       "0           0    G1      -  Fato ou Fake lança bot exclusivo para checar c...   \n",
       "1           1    G1      -         O que é #FATO ou #FAKE sobre o coronavírus   \n",
       "2           2    G1      -  É #FAKE vídeo em que mulher diz que mais de 50...   \n",
       "3           3    G1      -  É #FAKE que imagens provem que Hospital Moinho...   \n",
       "4           4    G1      -  É #FAKE que imagens provem que Hospital Moinho...   \n",
       "\n",
       "  intencionalidade                 data   fato  \\\n",
       "0               xv  2000-01-01 00:00:00  False   \n",
       "1               xv                   00  False   \n",
       "2               xv  2000-01-01 00:00:00  False   \n",
       "3               xv                   00  False   \n",
       "4               xv  2000-01-01 00:00:00  False   \n",
       "\n",
       "                                            conteudo  autenticidade     tipo  \\\n",
       "0  É possível por meio do número no WhatsApp faze...          False  noticia   \n",
       "1  Vídeos, áudios e posts têm viralizado nas rede...          False       []   \n",
       "2  Números citados em português são referentes a ...          False  noticia   \n",
       "3  Hospital diz que 'o vídeo gravado nas dependên...          False    video   \n",
       "4  Hospital diz que 'o vídeo gravado nas dependên...          False  noticia   \n",
       "\n",
       "  categoria                                               link  \\\n",
       "0     boato  https://g1.globo.com/fato-ou-fake/noticia/2020...   \n",
       "1     boato     https://g1.globo.com/fato-ou-fake/coronavirus/   \n",
       "2     boato  https://g1.globo.com/fato-ou-fake/coronavirus/...   \n",
       "3     boato  https://g1.globo.com/fato-ou-fake/video/e-fake...   \n",
       "4     boato  https://g1.globo.com/fato-ou-fake/coronavirus/...   \n",
       "\n",
       "                                               image  \n",
       "0                                                  -  \n",
       "1  https://s2.glbimg.com/vUTxF9w-hBRXE_So7-tFd8nl...  \n",
       "2  https://s2.glbimg.com/DThH2hqRg3DlLe_9Q7WYpi-n...  \n",
       "3  https://s2.glbimg.com/9N-SqOkQrRNvOVtr6hs-31R1...  \n",
       "4  https://s2.glbimg.com/9N-SqOkQrRNvOVtr6hs-31R1...  "
      ]
     },
     "execution_count": 10,
     "metadata": {},
     "output_type": "execute_result"
    }
   ],
   "source": [
    "# analise\n",
    "fake_df = pd.read_csv('data/fake-news-g1.csv', delimiter =',')\n",
    "fake_df.head()"
   ]
  },
  {
   "cell_type": "code",
   "execution_count": 11,
   "id": "ea19f1f1",
   "metadata": {},
   "outputs": [
    {
     "name": "stdout",
     "output_type": "stream",
     "text": [
      "Métodos de limpeza de dados\n"
     ]
    }
   ],
   "source": [
    "# Metodos de limpeza\n",
    "print('Métodos de limpeza de dados')"
   ]
  },
  {
   "cell_type": "code",
   "execution_count": null,
   "id": "2bae2ce5",
   "metadata": {},
   "outputs": [],
   "source": [
    "# continuar"
   ]
  },
  {
   "cell_type": "markdown",
   "id": "selected-nurse",
   "metadata": {},
   "source": [
    "---\n",
    "#### <center>Projeto de Pesquisa,  Copyright &copy;  Jorge Zavaleta, 2021</center>"
   ]
  }
 ],
 "metadata": {
  "kernelspec": {
   "display_name": "Python 3",
   "language": "python",
   "name": "python3"
  },
  "language_info": {
   "codemirror_mode": {
    "name": "ipython",
    "version": 3
   },
   "file_extension": ".py",
   "mimetype": "text/x-python",
   "name": "python",
   "nbconvert_exporter": "python",
   "pygments_lexer": "ipython3",
   "version": "3.8.8"
  }
 },
 "nbformat": 4,
 "nbformat_minor": 5
}
