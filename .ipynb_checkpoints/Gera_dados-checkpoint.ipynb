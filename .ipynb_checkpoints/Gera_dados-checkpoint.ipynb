{
 "cells": [
  {
   "cell_type": "markdown",
   "id": "2b5e33d7",
   "metadata": {
    "colab_type": "text",
    "id": "view-in-github"
   },
   "source": [
    "<a href=\"https://colab.research.google.com/github/zavaleta/Machine-Learning-and-Fake-News/blob/main/Gera_dados.ipynb\" target=\"_parent\"><img src=\"https://colab.research.google.com/assets/colab-badge.svg\" alt=\"Open In Colab\"/></a>"
   ]
  },
  {
   "cell_type": "markdown",
   "id": "opponent-boston",
   "metadata": {
    "id": "opponent-boston"
   },
   "source": [
    "---\n",
    "# Projeto de Pesquisa \n",
    "> ## Métodos de Machine Learning para Determinar Fake News em Saúde nas Mídias Sociais\n",
    ">> ### Autor: Jorge Zavaleta"
   ]
  },
  {
   "cell_type": "markdown",
   "id": "painted-delaware",
   "metadata": {
    "id": "painted-delaware"
   },
   "source": [
    "---\n",
    "[![DOI](https://zenodo.org/badge/DOI/10.5281/zenodo.4663365.svg)](https://doi.org/10.5281/zenodo.4663365)"
   ]
  },
  {
   "cell_type": "markdown",
   "id": "0ICW6HeMEJ3l",
   "metadata": {
    "id": "0ICW6HeMEJ3l"
   },
   "source": [
    "---\n",
    "> ## Módulo de Geração de Dados"
   ]
  },
  {
   "cell_type": "markdown",
   "id": "bored-heart",
   "metadata": {
    "id": "bored-heart"
   },
   "source": [
    "---\n",
    "# 1. Métodos"
   ]
  },
  {
   "cell_type": "markdown",
   "id": "medical-conclusion",
   "metadata": {
    "id": "medical-conclusion"
   },
   "source": [
    "> Verificar se existe dados restringidos ou sensíveis\n",
    "> - ```usar: robots.txt```"
   ]
  },
  {
   "cell_type": "markdown",
   "id": "7cb29252",
   "metadata": {
    "id": "7cb29252"
   },
   "source": [
    "> ## Importar bibliotercas necessárias \n"
   ]
  },
  {
   "cell_type": "code",
   "execution_count": 1,
   "id": "b6f759d3",
   "metadata": {
    "id": "b6f759d3"
   },
   "outputs": [],
   "source": [
    "# importar bibliotecas\n",
    "import requests                           #  Usar http\n",
    "from bs4 import BeautifulSoup             #  Usar dados de arquivos HTML e XML\n",
    "from datetime import datetime, date       #  Usar para datas e horários\n",
    "import pandas as pd                       #  Usar com Series e DataFrames\n",
    "import re                                 #  Usar com expressões regulares"
   ]
  },
  {
   "cell_type": "markdown",
   "id": "current-header",
   "metadata": {
    "id": "current-header"
   },
   "source": [
    "## 1.1 WebScrapping"
   ]
  },
  {
   "cell_type": "code",
   "execution_count": 2,
   "id": "conscious-algebra",
   "metadata": {
    "colab": {
     "base_uri": "https://localhost:8080/"
    },
    "id": "conscious-algebra",
    "outputId": "335ecdeb-98ed-4750-ddbc-892b089d097b"
   },
   "outputs": [
    {
     "name": "stdout",
     "output_type": "stream",
     "text": [
      "Método Webscrapping\n"
     ]
    }
   ],
   "source": [
    "# metodos webscrapping\n",
    "print('Método Webscrapping')"
   ]
  },
  {
   "cell_type": "markdown",
   "id": "included-scheduling",
   "metadata": {
    "id": "included-scheduling"
   },
   "source": [
    "## 1.2 WebCrawler"
   ]
  },
  {
   "cell_type": "code",
   "execution_count": 3,
   "id": "auburn-lindsay",
   "metadata": {
    "colab": {
     "base_uri": "https://localhost:8080/"
    },
    "id": "auburn-lindsay",
    "outputId": "8c9ce3ef-edac-40ef-f471-e280bd4ee510"
   },
   "outputs": [
    {
     "name": "stdout",
     "output_type": "stream",
     "text": [
      "Método WebCrawler\n"
     ]
    }
   ],
   "source": [
    "# metodos webscrapping\n",
    "print('Método WebCrawler')"
   ]
  },
  {
   "cell_type": "markdown",
   "id": "affecting-potential",
   "metadata": {
    "id": "affecting-potential"
   },
   "source": [
    "## 1.3 Selenium"
   ]
  },
  {
   "cell_type": "code",
   "execution_count": 4,
   "id": "beginning-notion",
   "metadata": {
    "colab": {
     "base_uri": "https://localhost:8080/"
    },
    "id": "beginning-notion",
    "outputId": "51546e18-b66c-408b-eaa4-5f39b2d56464"
   },
   "outputs": [
    {
     "name": "stdout",
     "output_type": "stream",
     "text": [
      "Método Selenium\n"
     ]
    }
   ],
   "source": [
    "# metodos webscrapping\n",
    "print('Método Selenium')"
   ]
  },
  {
   "cell_type": "markdown",
   "id": "303c8245",
   "metadata": {
    "id": "303c8245"
   },
   "source": [
    "# 2. Automatização da Geração de Dados"
   ]
  },
  {
   "cell_type": "code",
   "execution_count": 5,
   "id": "fifth-things",
   "metadata": {
    "colab": {
     "base_uri": "https://localhost:8080/"
    },
    "id": "fifth-things",
    "outputId": "2084b98c-e55a-4c9c-cef0-b28812e1f014"
   },
   "outputs": [
    {
     "name": "stdout",
     "output_type": "stream",
     "text": [
      "Automatização da geração de dados\n"
     ]
    }
   ],
   "source": [
    "# automatizacao\n",
    "print('Automatização da geração de dados')"
   ]
  },
  {
   "cell_type": "markdown",
   "id": "c8c38f46",
   "metadata": {
    "id": "c8c38f46"
   },
   "source": [
    "# 3. Analise e limpeza de dados"
   ]
  },
  {
   "cell_type": "code",
   "execution_count": 7,
   "id": "EA64LzZtGvLs",
   "metadata": {
    "colab": {
     "base_uri": "https://localhost:8080/"
    },
    "id": "EA64LzZtGvLs",
    "outputId": "c6e50c85-3af5-4a81-d07a-0be823f16993"
   },
   "outputs": [
    {
     "name": "stdout",
     "output_type": "stream",
     "text": [
      "Cloning into 'Machine-Learning-and-Fake-News'...\n",
      "remote: Enumerating objects: 182, done.\u001b[K\n",
      "remote: Counting objects: 100% (182/182), done.\u001b[K\n",
      "remote: Compressing objects: 100% (131/131), done.\u001b[K\n",
      "remote: Total 182 (delta 97), reused 124 (delta 49), pack-reused 0\u001b[K\n",
      "Receiving objects: 100% (182/182), 594.05 KiB | 12.38 MiB/s, done.\n",
      "Resolving deltas: 100% (97/97), done.\n"
     ]
    }
   ],
   "source": [
    "# Usar dataset do Github\n",
    "!git clone https://github.com/zavaleta/Machine-Learning-and-Fake-News\n"
   ]
  },
  {
   "cell_type": "code",
   "execution_count": 8,
   "id": "fe4b5b72",
   "metadata": {
    "colab": {
     "base_uri": "https://localhost:8080/",
     "height": 649
    },
    "id": "fe4b5b72",
    "outputId": "a155780d-44ad-4ab2-db99-b04dbd2bd16c"
   },
   "outputs": [
    {
     "data": {
      "text/html": [
       "<div>\n",
       "<style scoped>\n",
       "    .dataframe tbody tr th:only-of-type {\n",
       "        vertical-align: middle;\n",
       "    }\n",
       "\n",
       "    .dataframe tbody tr th {\n",
       "        vertical-align: top;\n",
       "    }\n",
       "\n",
       "    .dataframe thead th {\n",
       "        text-align: right;\n",
       "    }\n",
       "</style>\n",
       "<table border=\"1\" class=\"dataframe\">\n",
       "  <thead>\n",
       "    <tr style=\"text-align: right;\">\n",
       "      <th></th>\n",
       "      <th>Unnamed: 0</th>\n",
       "      <th>fonte</th>\n",
       "      <th>author</th>\n",
       "      <th>title</th>\n",
       "      <th>intencionalidade</th>\n",
       "      <th>data</th>\n",
       "      <th>fato</th>\n",
       "      <th>conteudo</th>\n",
       "      <th>autenticidade</th>\n",
       "      <th>tipo</th>\n",
       "      <th>categoria</th>\n",
       "      <th>link</th>\n",
       "      <th>image</th>\n",
       "    </tr>\n",
       "  </thead>\n",
       "  <tbody>\n",
       "    <tr>\n",
       "      <th>0</th>\n",
       "      <td>0</td>\n",
       "      <td>G1</td>\n",
       "      <td>-</td>\n",
       "      <td>Fato ou Fake lança bot exclusivo para checar c...</td>\n",
       "      <td>xv</td>\n",
       "      <td>2000-01-01 00:00:00</td>\n",
       "      <td>False</td>\n",
       "      <td>É possível por meio do número no WhatsApp faze...</td>\n",
       "      <td>False</td>\n",
       "      <td>noticia</td>\n",
       "      <td>boato</td>\n",
       "      <td>https://g1.globo.com/fato-ou-fake/noticia/2020...</td>\n",
       "      <td>-</td>\n",
       "    </tr>\n",
       "    <tr>\n",
       "      <th>1</th>\n",
       "      <td>1</td>\n",
       "      <td>G1</td>\n",
       "      <td>-</td>\n",
       "      <td>O que é #FATO ou #FAKE sobre o coronavírus</td>\n",
       "      <td>xv</td>\n",
       "      <td>00</td>\n",
       "      <td>False</td>\n",
       "      <td>Vídeos, áudios e posts têm viralizado nas rede...</td>\n",
       "      <td>False</td>\n",
       "      <td>[]</td>\n",
       "      <td>boato</td>\n",
       "      <td>https://g1.globo.com/fato-ou-fake/coronavirus/</td>\n",
       "      <td>https://s2.glbimg.com/vUTxF9w-hBRXE_So7-tFd8nl...</td>\n",
       "    </tr>\n",
       "    <tr>\n",
       "      <th>2</th>\n",
       "      <td>2</td>\n",
       "      <td>G1</td>\n",
       "      <td>-</td>\n",
       "      <td>É #FAKE vídeo em que mulher diz que mais de 50...</td>\n",
       "      <td>xv</td>\n",
       "      <td>2000-01-01 00:00:00</td>\n",
       "      <td>False</td>\n",
       "      <td>Números citados em português são referentes a ...</td>\n",
       "      <td>False</td>\n",
       "      <td>noticia</td>\n",
       "      <td>boato</td>\n",
       "      <td>https://g1.globo.com/fato-ou-fake/coronavirus/...</td>\n",
       "      <td>https://s2.glbimg.com/DThH2hqRg3DlLe_9Q7WYpi-n...</td>\n",
       "    </tr>\n",
       "    <tr>\n",
       "      <th>3</th>\n",
       "      <td>3</td>\n",
       "      <td>G1</td>\n",
       "      <td>-</td>\n",
       "      <td>É #FAKE que imagens provem que Hospital Moinho...</td>\n",
       "      <td>xv</td>\n",
       "      <td>00</td>\n",
       "      <td>False</td>\n",
       "      <td>Hospital diz que 'o vídeo gravado nas dependên...</td>\n",
       "      <td>False</td>\n",
       "      <td>video</td>\n",
       "      <td>boato</td>\n",
       "      <td>https://g1.globo.com/fato-ou-fake/video/e-fake...</td>\n",
       "      <td>https://s2.glbimg.com/9N-SqOkQrRNvOVtr6hs-31R1...</td>\n",
       "    </tr>\n",
       "    <tr>\n",
       "      <th>4</th>\n",
       "      <td>4</td>\n",
       "      <td>G1</td>\n",
       "      <td>-</td>\n",
       "      <td>É #FAKE que imagens provem que Hospital Moinho...</td>\n",
       "      <td>xv</td>\n",
       "      <td>2000-01-01 00:00:00</td>\n",
       "      <td>False</td>\n",
       "      <td>Hospital diz que 'o vídeo gravado nas dependên...</td>\n",
       "      <td>False</td>\n",
       "      <td>noticia</td>\n",
       "      <td>boato</td>\n",
       "      <td>https://g1.globo.com/fato-ou-fake/coronavirus/...</td>\n",
       "      <td>https://s2.glbimg.com/9N-SqOkQrRNvOVtr6hs-31R1...</td>\n",
       "    </tr>\n",
       "  </tbody>\n",
       "</table>\n",
       "</div>"
      ],
      "text/plain": [
       "   Unnamed: 0  ...                                              image\n",
       "0           0  ...                                                  -\n",
       "1           1  ...  https://s2.glbimg.com/vUTxF9w-hBRXE_So7-tFd8nl...\n",
       "2           2  ...  https://s2.glbimg.com/DThH2hqRg3DlLe_9Q7WYpi-n...\n",
       "3           3  ...  https://s2.glbimg.com/9N-SqOkQrRNvOVtr6hs-31R1...\n",
       "4           4  ...  https://s2.glbimg.com/9N-SqOkQrRNvOVtr6hs-31R1...\n",
       "\n",
       "[5 rows x 13 columns]"
      ]
     },
     "execution_count": 8,
     "metadata": {
      "tags": []
     },
     "output_type": "execute_result"
    }
   ],
   "source": [
    "# leitura do dataset -> github\n",
    "fake_df = pd.read_csv('Machine-Learning-and-Fake-News/data/fake-news-g1_06_03_2021.csv', delimiter =',')\n",
    "fake_df.head()"
   ]
  },
  {
   "cell_type": "code",
   "execution_count": null,
   "id": "Qlp4ScDqHsA0",
   "metadata": {
    "id": "Qlp4ScDqHsA0"
   },
   "outputs": [],
   "source": [
    "# leitura do dataset local\n",
    "#fake_df = pd.read_csv('data/fake-news-g1_06_03_2021.csv', delimiter =',')\n",
    "#fake_df.head()"
   ]
  },
  {
   "cell_type": "code",
   "execution_count": 9,
   "id": "ea19f1f1",
   "metadata": {
    "colab": {
     "base_uri": "https://localhost:8080/"
    },
    "id": "ea19f1f1",
    "outputId": "b5f4dafb-51d4-4985-e421-dc8019e71422"
   },
   "outputs": [
    {
     "name": "stdout",
     "output_type": "stream",
     "text": [
      "Métodos de limpeza de dados\n"
     ]
    }
   ],
   "source": [
    "# Metodos de limpeza\n",
    "print('Métodos de limpeza de dados')"
   ]
  },
  {
   "cell_type": "code",
   "execution_count": null,
   "id": "2bae2ce5",
   "metadata": {
    "id": "2bae2ce5"
   },
   "outputs": [],
   "source": [
    "# continuar"
   ]
  },
  {
   "cell_type": "markdown",
   "id": "selected-nurse",
   "metadata": {
    "id": "selected-nurse"
   },
   "source": [
    "---\n",
    "#### <center>Projeto de Pesquisa,  Copyright &copy;  Jorge Zavaleta, 2021</center>"
   ]
  }
 ],
 "metadata": {
  "colab": {
   "include_colab_link": true,
   "name": "Gera_dados.ipynb",
   "provenance": []
  },
  "kernelspec": {
   "display_name": "Python 3",
   "language": "python",
   "name": "python3"
  },
  "language_info": {
   "codemirror_mode": {
    "name": "ipython",
    "version": 3
   },
   "file_extension": ".py",
   "mimetype": "text/x-python",
   "name": "python",
   "nbconvert_exporter": "python",
   "pygments_lexer": "ipython3",
   "version": "3.8.8"
  }
 },
 "nbformat": 4,
 "nbformat_minor": 5
}
