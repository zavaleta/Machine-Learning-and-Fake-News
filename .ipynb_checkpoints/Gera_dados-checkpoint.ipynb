{
 "cells": [
  {
   "cell_type": "markdown",
   "id": "speaking-communication",
   "metadata": {},
   "source": [
    "[![Binder](https://mybinder.org/badge_logo.svg)](https://mybinder.org/v2/gh/zavaleta/Machine-Learning-and-Fake-News/main)"
   ]
  },
  {
   "cell_type": "markdown",
   "id": "opponent-boston",
   "metadata": {},
   "source": [
    "---\n",
    "# Projeto de Pesquisa - Geração de Dados"
   ]
  },
  {
   "cell_type": "markdown",
   "id": "painted-delaware",
   "metadata": {},
   "source": [
    "---\n",
    "[![DOI](https://zenodo.org/badge/DOI/10.5281/zenodo.4663365.svg)](https://doi.org/10.5281/zenodo.4663365)"
   ]
  },
  {
   "cell_type": "markdown",
   "id": "bored-heart",
   "metadata": {},
   "source": [
    "---\n",
    "# 1. Métodos"
   ]
  },
  {
   "cell_type": "markdown",
   "id": "medical-conclusion",
   "metadata": {},
   "source": [
    "> Verificar se existe dados restringidos\n",
    "> - ```usar: robots.txt```"
   ]
  },
  {
   "cell_type": "markdown",
   "id": "current-header",
   "metadata": {},
   "source": [
    "## 1.1 WebScrapping"
   ]
  },
  {
   "cell_type": "code",
   "execution_count": 2,
   "id": "conscious-algebra",
   "metadata": {},
   "outputs": [
    {
     "name": "stdout",
     "output_type": "stream",
     "text": [
      "Método Webscrapping\n"
     ]
    }
   ],
   "source": [
    "# metodos webscrapping\n",
    "print('Método Webscrapping')"
   ]
  },
  {
   "cell_type": "markdown",
   "id": "included-scheduling",
   "metadata": {},
   "source": [
    "## 1.2 WebCrawler"
   ]
  },
  {
   "cell_type": "code",
   "execution_count": 3,
   "id": "auburn-lindsay",
   "metadata": {},
   "outputs": [
    {
     "name": "stdout",
     "output_type": "stream",
     "text": [
      "Método WebCrawler\n"
     ]
    }
   ],
   "source": [
    "# metodos webscrapping\n",
    "print('Método WebCrawler')"
   ]
  },
  {
   "cell_type": "markdown",
   "id": "affecting-potential",
   "metadata": {},
   "source": [
    "## 1.3 Selenium"
   ]
  },
  {
   "cell_type": "code",
   "execution_count": 4,
   "id": "beginning-notion",
   "metadata": {},
   "outputs": [
    {
     "name": "stdout",
     "output_type": "stream",
     "text": [
      "Método Selenium\n"
     ]
    }
   ],
   "source": [
    "# metodos webscrapping\n",
    "print('Método Selenium')"
   ]
  },
  {
   "cell_type": "code",
   "execution_count": null,
   "id": "strange-taste",
   "metadata": {},
   "outputs": [],
   "source": [
    "#"
   ]
  },
  {
   "cell_type": "code",
   "execution_count": null,
   "id": "fifth-things",
   "metadata": {},
   "outputs": [],
   "source": []
  },
  {
   "cell_type": "markdown",
   "id": "selected-nurse",
   "metadata": {},
   "source": [
    "---\n",
    "#### <center>Projeto de Pesquisa,  Copyright &copy;  Jorge Zavaleta, 2021</center>"
   ]
  }
 ],
 "metadata": {
  "kernelspec": {
   "display_name": "Python 3",
   "language": "python",
   "name": "python3"
  },
  "language_info": {
   "codemirror_mode": {
    "name": "ipython",
    "version": 3
   },
   "file_extension": ".py",
   "mimetype": "text/x-python",
   "name": "python",
   "nbconvert_exporter": "python",
   "pygments_lexer": "ipython3",
   "version": "3.8.8"
  }
 },
 "nbformat": 4,
 "nbformat_minor": 5
}
