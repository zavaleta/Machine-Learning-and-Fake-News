{
 "cells": [
  {
   "cell_type": "markdown",
   "id": "official-operation",
   "metadata": {},
   "source": [
    "---\n",
    "# Projeto de Pesquisa - Geração de Dados"
   ]
  },
  {
   "cell_type": "markdown",
   "id": "superior-brush",
   "metadata": {},
   "source": [
    "---\n",
    "[![DOI](https://zenodo.org/badge/DOI/10.5281/zenodo.4663365.svg)](https://doi.org/10.5281/zenodo.4663365)"
   ]
  },
  {
   "cell_type": "markdown",
   "id": "colored-argument",
   "metadata": {},
   "source": [
    "---\n",
    "# 1. Métodos"
   ]
  },
  {
   "cell_type": "markdown",
   "id": "military-tackle",
   "metadata": {},
   "source": [
    "> Verificar se existe dados restringidos\n",
    "> - ```usar: robots.txt```"
   ]
  },
  {
   "cell_type": "markdown",
   "id": "married-feelings",
   "metadata": {},
   "source": [
    "## 1.1 WebScrapping"
   ]
  },
  {
   "cell_type": "code",
   "execution_count": 1,
   "id": "acquired-offense",
   "metadata": {},
   "outputs": [
    {
     "name": "stdout",
     "output_type": "stream",
     "text": [
      "Método Webscrapping\n"
     ]
    }
   ],
   "source": [
    "# metodos webscrapping\n",
    "print('Método Webscrapping')"
   ]
  },
  {
   "cell_type": "markdown",
   "id": "threaded-prairie",
   "metadata": {},
   "source": [
    "## 1.2 WebCrawler"
   ]
  },
  {
   "cell_type": "code",
   "execution_count": 2,
   "id": "substantial-norwegian",
   "metadata": {},
   "outputs": [
    {
     "name": "stdout",
     "output_type": "stream",
     "text": [
      "Método WebCrawler\n"
     ]
    }
   ],
   "source": [
    "# metodos webscrapping\n",
    "print('Método WebCrawler')"
   ]
  },
  {
   "cell_type": "markdown",
   "id": "handled-platinum",
   "metadata": {},
   "source": [
    "## 1.3 Selenium"
   ]
  },
  {
   "cell_type": "code",
   "execution_count": 3,
   "id": "played-kuwait",
   "metadata": {},
   "outputs": [
    {
     "name": "stdout",
     "output_type": "stream",
     "text": [
      "Método Selenium\n"
     ]
    }
   ],
   "source": [
    "# metodos webscrapping\n",
    "print('Método Selenium')"
   ]
  },
  {
   "cell_type": "code",
   "execution_count": null,
   "id": "seasonal-following",
   "metadata": {},
   "outputs": [],
   "source": []
  },
  {
   "cell_type": "code",
   "execution_count": null,
   "id": "limiting-backup",
   "metadata": {},
   "outputs": [],
   "source": []
  },
  {
   "cell_type": "markdown",
   "id": "signal-monaco",
   "metadata": {},
   "source": [
    "---\n",
    "#### <center>Projeto de Pesquisa,  Copyright &copy;  Jorge Zavaleta, 2021</center>"
   ]
  }
 ],
 "metadata": {
  "kernelspec": {
   "display_name": "Python 3",
   "language": "python",
   "name": "python3"
  },
  "language_info": {
   "codemirror_mode": {
    "name": "ipython",
    "version": 3
   },
   "file_extension": ".py",
   "mimetype": "text/x-python",
   "name": "python",
   "nbconvert_exporter": "python",
   "pygments_lexer": "ipython3",
   "version": "3.8.8"
  }
 },
 "nbformat": 4,
 "nbformat_minor": 5
}
