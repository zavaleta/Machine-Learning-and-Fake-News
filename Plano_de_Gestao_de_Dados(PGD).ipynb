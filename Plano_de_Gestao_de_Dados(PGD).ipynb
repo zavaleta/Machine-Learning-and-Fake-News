{
 "cells": [
  {
   "cell_type": "markdown",
   "id": "sitting-shareware",
   "metadata": {},
   "source": [
    "---\n",
    "# Plano de Gestão de Dados"
   ]
  },
  {
   "cell_type": "markdown",
   "id": "vital-definition",
   "metadata": {},
   "source": [
    "---\n",
    "# Projeto\n",
    "> ## Métodos de Machine Learning para Determinar Fake News em Saúde nas Mídias Sociais\n",
    "> ### Autor: Jorge Juan Zavaleta Gavidia\n",
    "> ### ORCID: 0000-0002-4747-8613\n",
    "> ### Instituição: Programa de Pós-graduação em Informática - Universidade Federal do Rio de Janeiro (Brasil)\n",
    "> ### Fonte de Financiamiento: CAPES Tecnodigital."
   ]
  },
  {
   "cell_type": "markdown",
   "id": "official-defeat",
   "metadata": {},
   "source": [
    "# 1. Dados"
   ]
  },
  {
   "cell_type": "markdown",
   "id": "robust-geography",
   "metadata": {},
   "source": [
    "> ## Propósito: x\n",
    "> a)\tPropósito: dataset para ser processados por métodos de Machine Learning.\n",
    "\n",
    "> b)\tTipos: texto, imagem, som, vídeo e mistura deles.\n",
    "\n",
    "> c)\tFormatos: txt, png, jpg, csv, xlsx, mp4, mov etc.\n",
    "\n",
    "> d)\tOrigem: Internet e repositórios adequados ao projeto.\n",
    "\n",
    "> e)\tMétodos de obtenção: Webscraping, webcrawler e repositórios.\n",
    "\n",
    "> f)\tTamanho: datasets em GB de tamanho variável.\n",
    "\n",
    "> g)\tUtilização: Dados de treinamento, teste e validação dos MML.\n",
    "\n",
    "> h)\tF1 – Fornecer informações descritivas adequadas (metadados) para garantir que as pessoas que encontrarem seus dados possam entendê-los.\n",
    "\n",
    "> i)\tF2- Depositar os dados em repositórios que providenciem um Digital Object Identifier (DOI), tais como, Zenodo ou ZivaHub.\n",
    "\n",
    "> j)\tF3 – Padronização das palavras chaves e nomes usados.\n"
   ]
  },
  {
   "cell_type": "code",
   "execution_count": null,
   "id": "persistent-frederick",
   "metadata": {},
   "outputs": [],
   "source": []
  },
  {
   "cell_type": "code",
   "execution_count": null,
   "id": "informed-rating",
   "metadata": {},
   "outputs": [],
   "source": []
  },
  {
   "cell_type": "code",
   "execution_count": null,
   "id": "romantic-extent",
   "metadata": {},
   "outputs": [],
   "source": []
  },
  {
   "cell_type": "code",
   "execution_count": null,
   "id": "isolated-continuity",
   "metadata": {},
   "outputs": [],
   "source": []
  },
  {
   "cell_type": "code",
   "execution_count": null,
   "id": "double-omaha",
   "metadata": {},
   "outputs": [],
   "source": []
  },
  {
   "cell_type": "markdown",
   "id": "sought-translator",
   "metadata": {},
   "source": [
    "---\n",
    "#### <center>Plano de Gestão de dados,  Copyright &copy;  Jorge Zavaleta, 2021</center>"
   ]
  }
 ],
 "metadata": {
  "kernelspec": {
   "display_name": "Python 3",
   "language": "python",
   "name": "python3"
  },
  "language_info": {
   "codemirror_mode": {
    "name": "ipython",
    "version": 3
   },
   "file_extension": ".py",
   "mimetype": "text/x-python",
   "name": "python",
   "nbconvert_exporter": "python",
   "pygments_lexer": "ipython3",
   "version": "3.8.8"
  }
 },
 "nbformat": 4,
 "nbformat_minor": 5
}
